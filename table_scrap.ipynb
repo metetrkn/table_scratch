{
 "cells": [
  {
   "cell_type": "code",
   "execution_count": null,
   "id": "7e63a088",
   "metadata": {},
   "outputs": [],
   "source": [
    "# Installing related libraries\n",
    "!pip install beautifulsoup4\n",
    "!pip install html5lib"
   ]
  },
  {
   "cell_type": "code",
   "execution_count": 39,
   "id": "40021b87",
   "metadata": {},
   "outputs": [],
   "source": [
    "# Importing related libraries\n",
    "from bs4 import BeautifulSoup as BS4\n",
    "import requests\n",
    "import pandas as pd"
   ]
  },
  {
   "cell_type": "code",
   "execution_count": 40,
   "id": "0329d47b",
   "metadata": {},
   "outputs": [],
   "source": [
    "# url to scratch data\n",
    "url = 'https://web.archive.org/web/20200318083015/https://en.wikipedia.org/wiki/List_of_largest_banks'"
   ]
  },
  {
   "cell_type": "code",
   "execution_count": 41,
   "id": "56d2abac",
   "metadata": {},
   "outputs": [],
   "source": [
    "# parsing into beautifulsoup, html parser\n",
    "soup = BS4(html_data.text, 'html.parser')"
   ]
  },
  {
   "cell_type": "code",
   "execution_count": 44,
   "id": "da59fe56",
   "metadata": {},
   "outputs": [],
   "source": [
    "# Response object\n",
    "html_data =requests.get(url)\n",
    "\n",
    "if html_data.status_code == 200:\n",
    "    # parsing into beautifulsoup, html parser\n",
    "    soup = BS4(html_data.text, 'html.parser')"
   ]
  },
  {
   "cell_type": "code",
   "execution_count": 25,
   "id": "f7e3eae6",
   "metadata": {},
   "outputs": [],
   "source": [
    "# Creating empty df to insert into scratched data \n",
    "data = pd.DataFrame(columns=[\"Name\", \"Market Cap (US$ Billion)\"])\n",
    "\n",
    "# capturing related table to scratch\n",
    "table = soup.find_all('tbody')[2].find_all('tr')"
   ]
  },
  {
   "cell_type": "code",
   "execution_count": 31,
   "id": "53ee9a7d",
   "metadata": {},
   "outputs": [],
   "source": [
    "# Inserting captured data into empty data df\n",
    "for row in table:\n",
    "    col = row.find_all('td')\n",
    "    if len(col) >= 2:\n",
    "            # Extract the bank name (first column)\n",
    "            bank_name = col[1].text.strip()\n",
    "\n",
    "            # Extract the market cap (second column)\n",
    "            market_cap = col[0].text.strip()\n",
    "            \n",
    "            # Creating df_temp to use concat with empty data df\n",
    "            df_temp = pd.DataFrame({'Name': [bank_name], 'Market Cap (US$ Billion)': [market_cap]})\n",
    "\n",
    "            data = pd.concat([data, df_temp], ignore_index=True)"
   ]
  },
  {
   "cell_type": "code",
   "execution_count": 45,
   "id": "d0de05a7",
   "metadata": {},
   "outputs": [
    {
     "data": {
      "text/html": [
       "<div>\n",
       "<style scoped>\n",
       "    .dataframe tbody tr th:only-of-type {\n",
       "        vertical-align: middle;\n",
       "    }\n",
       "\n",
       "    .dataframe tbody tr th {\n",
       "        vertical-align: top;\n",
       "    }\n",
       "\n",
       "    .dataframe thead th {\n",
       "        text-align: right;\n",
       "    }\n",
       "</style>\n",
       "<table border=\"1\" class=\"dataframe\">\n",
       "  <thead>\n",
       "    <tr style=\"text-align: right;\">\n",
       "      <th></th>\n",
       "      <th>Name</th>\n",
       "      <th>Market Cap (US$ Billion)</th>\n",
       "    </tr>\n",
       "  </thead>\n",
       "  <tbody>\n",
       "    <tr>\n",
       "      <th>0</th>\n",
       "      <td>JPMorgan Chase</td>\n",
       "      <td>1</td>\n",
       "    </tr>\n",
       "    <tr>\n",
       "      <th>1</th>\n",
       "      <td>Industrial and Commercial Bank of China</td>\n",
       "      <td>2</td>\n",
       "    </tr>\n",
       "    <tr>\n",
       "      <th>2</th>\n",
       "      <td>Bank of America</td>\n",
       "      <td>3</td>\n",
       "    </tr>\n",
       "    <tr>\n",
       "      <th>3</th>\n",
       "      <td>Wells Fargo</td>\n",
       "      <td>4</td>\n",
       "    </tr>\n",
       "    <tr>\n",
       "      <th>4</th>\n",
       "      <td>China Construction Bank</td>\n",
       "      <td>5</td>\n",
       "    </tr>\n",
       "  </tbody>\n",
       "</table>\n",
       "</div>"
      ],
      "text/plain": [
       "                                      Name Market Cap (US$ Billion)\n",
       "0                           JPMorgan Chase                        1\n",
       "1  Industrial and Commercial Bank of China                        2\n",
       "2                          Bank of America                        3\n",
       "3                              Wells Fargo                        4\n",
       "4                  China Construction Bank                        5"
      ]
     },
     "execution_count": 45,
     "metadata": {},
     "output_type": "execute_result"
    }
   ],
   "source": [
    "# Checking data df\n",
    "data.head()"
   ]
  },
  {
   "cell_type": "code",
   "execution_count": 35,
   "id": "7738618d",
   "metadata": {},
   "outputs": [],
   "source": [
    "# Saving data df as json file\n",
    "data.to_json(path_or_buf='./bank_market_cap.json', orient='columns')"
   ]
  }
 ],
 "metadata": {
  "kernelspec": {
   "display_name": "Python 3 (ipykernel)",
   "language": "python",
   "name": "python3"
  },
  "language_info": {
   "codemirror_mode": {
    "name": "ipython",
    "version": 3
   },
   "file_extension": ".py",
   "mimetype": "text/x-python",
   "name": "python",
   "nbconvert_exporter": "python",
   "pygments_lexer": "ipython3",
   "version": "3.11.4"
  }
 },
 "nbformat": 4,
 "nbformat_minor": 5
}
